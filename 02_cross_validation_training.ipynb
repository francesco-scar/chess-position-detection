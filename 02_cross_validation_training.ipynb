{
 "cells": [
  {
   "cell_type": "code",
   "execution_count": null,
   "id": "e86b5aa9",
   "metadata": {},
   "outputs": [],
   "source": [
    "\n",
    "# %load_ext tensorboard\n",
    "# %tensorboard --logdir runs\n",
    "\n",
    "# Set YOLO settings for TensorBoard\n",
    "from ultralytics import settings\n",
    "settings.update({'tensorboard': True})"
   ]
  },
  {
   "cell_type": "code",
   "execution_count": null,
   "id": "cad0ad2c",
   "metadata": {},
   "outputs": [],
   "source": [
    "from ultralytics import YOLO\n",
    "import os\n",
    "\n",
    "CONFIG_YAML_FOLDER = 'dataset/training/config_yamls'\n",
    "K = 4\n",
    "\n",
    "base_model = 'yolo11'\n",
    "sizes = ['n', 's', 'm', 'l'] \n",
    "models = {'_det': '', '_seg': '-seg', '_pose': '-pose'}\n",
    "extensions = ['.pt', '.yaml']\n",
    "\n",
    "project_name = {'_det': 'pieces', '_seg': 'board', '_pose': 'board'}\n",
    "\n",
    "batch_sizes = {\n",
    "    'n': 8,  # Nano\n",
    "    's': 2,  # Small\n",
    "    'm': 1,  # Medium\n",
    "    'l': 1,  # Large\n",
    "}\n",
    "\n",
    "# Iterate over all combinations of model sizes, types, and extensions\n",
    "for e in extensions:\n",
    "    for m in models:\n",
    "        for s in sizes:\n",
    "            model_name = f\"{base_model}{s}{models[m]}{e}\"\n",
    "            for k in range(K):\n",
    "                model = YOLO(model_name)\n",
    "                config_yaml = os.path.join(CONFIG_YAML_FOLDER, f'fold_{k}{m}.yaml')\n",
    "                                \n",
    "                model.train(\n",
    "                    data = config_yaml,\n",
    "                    epochs = 100,\n",
    "                    time = 1, # Set max time\n",
    "                    patience = 20, # Early stopping if no improvement\n",
    "                    imgsz=640,\n",
    "                    batch=batch_sizes[s],\n",
    "                    device = '0',  # Use GPU\n",
    "                    save = True,\n",
    "                    save_period = 1,\n",
    "                    exist_ok = True,\n",
    "                    project = f'runs/{project_name[m]}',\n",
    "                    name=f'{base_model}{s}{models[m]}_k{k}_{e.strip(\".\")}',\n",
    "                    plots=True,  # Enable training plots\n",
    "                    val=True,     # Enable validation for metrics               )\n",
    "                )"
   ]
  }
 ],
 "metadata": {
  "kernelspec": {
   "display_name": "venv",
   "language": "python",
   "name": "python3"
  },
  "language_info": {
   "codemirror_mode": {
    "name": "ipython",
    "version": 3
   },
   "file_extension": ".py",
   "mimetype": "text/x-python",
   "name": "python",
   "nbconvert_exporter": "python",
   "pygments_lexer": "ipython3",
   "version": "3.13.3"
  }
 },
 "nbformat": 4,
 "nbformat_minor": 5
}
